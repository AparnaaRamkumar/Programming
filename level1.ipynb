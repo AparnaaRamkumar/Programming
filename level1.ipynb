{
 "cells": [
  {
   "cell_type": "code",
   "execution_count": 1,
   "id": "2a3a4a84",
   "metadata": {},
   "outputs": [
    {
     "name": "stdout",
     "output_type": "stream",
     "text": [
      "Hello World\n"
     ]
    }
   ],
   "source": [
    "#1.Display Hello World\n",
    "print(\"Hello World\")"
   ]
  },
  {
   "cell_type": "code",
   "execution_count": 2,
   "id": "be04072b",
   "metadata": {},
   "outputs": [
    {
     "name": "stdout",
     "output_type": "stream",
     "text": [
      "Enter the value of a: 5\n",
      "Enter the value of b: 3\n",
      "The Sum of two numbers is 8\n"
     ]
    }
   ],
   "source": [
    "#2.Addition of two numbers\n",
    "a=int(input(\"Enter the value of a: \"))\n",
    "b=int(input(\"Enter the value of b: \"))\n",
    "c=a+b\n",
    "print(\"The Sum of two numbers is\",c)"
   ]
  },
  {
   "cell_type": "code",
   "execution_count": 3,
   "id": "cee6d8d1",
   "metadata": {},
   "outputs": [
    {
     "name": "stdout",
     "output_type": "stream",
     "text": [
      "The value of x is 10 and y is 5\n"
     ]
    }
   ],
   "source": [
    "#3.program to swap two values without dummy variable\n",
    "x=5\n",
    "y=10\n",
    "x,y=y,x\n",
    "print(\"The value of x is\",x,\"and y is\",y)"
   ]
  },
  {
   "cell_type": "code",
   "execution_count": 4,
   "id": "375d5005",
   "metadata": {},
   "outputs": [
    {
     "name": "stdout",
     "output_type": "stream",
     "text": [
      "Enter the kilometers: 4\n",
      "4000\n"
     ]
    }
   ],
   "source": [
    "#4.kilometers to meters\n",
    "km=int(input(\"Enter the kilometers: \"))\n",
    "meter=km*1000\n",
    "print(meter)"
   ]
  },
  {
   "cell_type": "code",
   "execution_count": 5,
   "id": "9ed50eba",
   "metadata": {},
   "outputs": [
    {
     "name": "stdout",
     "output_type": "stream",
     "text": [
      "Enter the value: 4\n",
      "Positive number\n"
     ]
    }
   ],
   "source": [
    "#5.Number is positive or negative\n",
    "num=int(input(\"Enter the value: \"))\n",
    "if(num>0):\n",
    "    print(\"Positive number\")\n",
    "elif(num<0):\n",
    "    print(\"Negative number\")\n",
    "else:\n",
    "    print(\"Both are equal\")"
   ]
  },
  {
   "cell_type": "code",
   "execution_count": 6,
   "id": "6804ae00",
   "metadata": {},
   "outputs": [
    {
     "name": "stdout",
     "output_type": "stream",
     "text": [
      "Enter the year: 2004\n",
      "Leap year\n"
     ]
    }
   ],
   "source": [
    "#6.Check leap year\n",
    "year=int(input(\"Enter the year: \"))\n",
    "if(year %4 == 0)and(year % 100 != 0):\n",
    "    print(\"Leap year\")\n",
    "else:\n",
    "    print(\"Not a leap year\")"
   ]
  },
  {
   "cell_type": "code",
   "execution_count": 7,
   "id": "f2259bc1",
   "metadata": {},
   "outputs": [
    {
     "name": "stdout",
     "output_type": "stream",
     "text": [
      "Enter the value4\n",
      "Enter the value9\n",
      "prime numbers between 4 to 9 are\n",
      "5\n",
      "7\n"
     ]
    }
   ],
   "source": [
    "#7.display prime numbers\n",
    "lr=int(input(\"Enter the value\"))\n",
    "hr=int(input(\"Enter the value\"))\n",
    "print(\"prime numbers between\",lr,\"to\",hr,\"are\")\n",
    "for num in range(lr,hr+1):\n",
    "    if num>1:\n",
    "        for i in range(2,num):\n",
    "            if(num%i==0):\n",
    "                break\n",
    "        else:\n",
    "            print(num)"
   ]
  },
  {
   "cell_type": "code",
   "execution_count": 8,
   "id": "8bab3132",
   "metadata": {},
   "outputs": [
    {
     "name": "stdout",
     "output_type": "stream",
     "text": [
      "Enter the number of terms: 5\n",
      "Fibonacci sequence:\n",
      "0\n",
      "1\n",
      "1\n",
      "2\n",
      "3\n"
     ]
    }
   ],
   "source": [
    "#8.fibonacci sequence\n",
    "r=int(input(\"Enter the number of terms: \"))\n",
    "t1,t2=0,1\n",
    "c=0\n",
    "if r<=0:\n",
    "    print(\"positive\")\n",
    "else:\n",
    "    print(\"Fibonacci sequence:\")\n",
    "    for i in range(1,r+1):\n",
    "        print(t1)\n",
    "        nt=t1+t2\n",
    "        t1=t2\n",
    "        t2=nt\n",
    "        c=c+1\n"
   ]
  },
  {
   "cell_type": "code",
   "execution_count": 1,
   "id": "449d7640",
   "metadata": {},
   "outputs": [
    {
     "name": "stdout",
     "output_type": "stream",
     "text": [
      "Enter the value: 153\n",
      "Armstrong number\n"
     ]
    }
   ],
   "source": [
    "#9.Checking armstrong number\n",
    "num=int(input(\"Enter the value: \"))\n",
    "sum=0\n",
    "ori=num\n",
    "while(ori>0):\n",
    "    a=ori%10\n",
    "    sum+=a**3\n",
    "    ori//=10\n",
    "if(num==sum):\n",
    "    print(\"Armstrong number\")\n",
    "else:\n",
    "    print(\"Not an armstrong number\")"
   ]
  },
  {
   "cell_type": "code",
   "execution_count": 2,
   "id": "7f7e23c0",
   "metadata": {},
   "outputs": [
    {
     "name": "stdout",
     "output_type": "stream",
     "text": [
      "Enter the range: 5\n",
      "15\n"
     ]
    }
   ],
   "source": [
    "#10.sum of n\n",
    "r=int(input(\"Enter the range: \"))\n",
    "sum=0\n",
    "for i in range(1,r+1):\n",
    "    sum=sum+i\n",
    "print(sum)"
   ]
  },
  {
   "cell_type": "code",
   "execution_count": 4,
   "id": "733d875b",
   "metadata": {},
   "outputs": [
    {
     "name": "stdout",
     "output_type": "stream",
     "text": [
      "Enter the number of rows: 5\n",
      "* \n",
      "\n",
      "* * \n",
      "\n",
      "* * * \n",
      "\n",
      "* * * * \n",
      "\n",
      "* * * * * \n",
      "\n"
     ]
    }
   ],
   "source": [
    "#11.Pattern\n",
    "r=int(input(\"Enter the number of rows: \"))\n",
    "for i in range(1,r+1):\n",
    "    for j in range(1,i+1):\n",
    "        print(\"*\",end=\" \")\n",
    "    print(\"\\n\")"
   ]
  },
  {
   "cell_type": "code",
   "execution_count": 4,
   "id": "ad35137c",
   "metadata": {},
   "outputs": [
    {
     "name": "stdout",
     "output_type": "stream",
     "text": [
      "Initial String geeksforgeeks\n",
      "Resultant String forgeeks\n"
     ]
    }
   ],
   "source": [
    "#12.Remove characters from string\n",
    "ini_string1 = 'geeksforgeeks'\n",
    "n = 5\n",
    "print(\"Initial String\", ini_string1)\n",
    "res = ini_string1[5:]\n",
    "print(\"Resultant String\", res)"
   ]
  },
  {
   "cell_type": "code",
   "execution_count": 7,
   "id": "8a689427",
   "metadata": {},
   "outputs": [
    {
     "name": "stdout",
     "output_type": "stream",
     "text": [
      "5\n",
      "10\n",
      "20\n",
      "30\n"
     ]
    }
   ],
   "source": [
    "#13.Numbers divisible by 5\n",
    "list=[5,2,10,3,20,30]\n",
    "for i in list:\n",
    "    if(i%5==0):\n",
    "        print(i)"
   ]
  },
  {
   "cell_type": "code",
   "execution_count": 9,
   "id": "26ac393a",
   "metadata": {},
   "outputs": [
    {
     "name": "stdout",
     "output_type": "stream",
     "text": [
      "2\n"
     ]
    }
   ],
   "source": [
    "#14.Count of substrings\n",
    "string=\"Hi This is Hi tech world\"\n",
    "print(string.count('Hi'))"
   ]
  },
  {
   "cell_type": "code",
   "execution_count": 10,
   "id": "4ed1657d",
   "metadata": {},
   "outputs": [
    {
     "name": "stdout",
     "output_type": "stream",
     "text": [
      "Enter number of rows: 5\n",
      "1 \n",
      "\n",
      "2 2 \n",
      "\n",
      "3 3 3 \n",
      "\n",
      "4 4 4 4 \n",
      "\n",
      "5 5 5 5 5 \n",
      "\n"
     ]
    }
   ],
   "source": [
    "#15.Pattern\n",
    "rows = int(input(\"Enter number of rows: \"))\n",
    "num=1\n",
    "for i in range(rows):\n",
    "    for j in range(i+1):\n",
    "        print(num, end=\" \")\n",
    "    num+= 1\n",
    "    print(\"\\n\")"
   ]
  },
  {
   "cell_type": "code",
   "execution_count": 26,
   "id": "fbb44bcc",
   "metadata": {},
   "outputs": [
    {
     "name": "stdout",
     "output_type": "stream",
     "text": [
      "Enter a three digit number: 121\n",
      "121\n",
      "Palindrome\n"
     ]
    }
   ],
   "source": [
    "#16.Palindrome number\n",
    "n=int(input(\"Enter a three digit number: \"))\n",
    "ori=n\n",
    "rev=0\n",
    "while(ori!=0):\n",
    "    rem=ori%10\n",
    "    rev=rev*10+rem\n",
    "    ori=ori//10\n",
    "print(rev)\n",
    "if(n==rev):\n",
    "    print(\"Palindrome\")\n",
    "else:\n",
    "    print(\"Not a Palindrome\")"
   ]
  },
  {
   "cell_type": "code",
   "execution_count": null,
   "id": "b6d62933",
   "metadata": {},
   "outputs": [],
   "source": [
    "#17.swapping first and last elements in a list\n",
    "newList = [11, 3, 12, 43, 24]\n",
    "newList[0],newList[-1]=newList[-1],newList[0]\n",
    "print(newList)"
   ]
  },
  {
   "cell_type": "code",
   "execution_count": 41,
   "id": "8a2dea04",
   "metadata": {},
   "outputs": [
    {
     "name": "stdout",
     "output_type": "stream",
     "text": [
      "Enter first position: 1\n",
      "Enter second position: 4\n",
      "[11, 24, 12, 43, 3]\n"
     ]
    }
   ],
   "source": [
    "#18.Swap two elements in a list\n",
    "list1=[11,3,12,43,24] \n",
    "pos1=int(input(\"Enter first position: \"))\n",
    "pos2=int(input(\"Enter second position: \"))\n",
    "list1[pos1],list1[pos2] = list1[pos2],list1[pos1]\n",
    "print(list1)"
   ]
  },
  {
   "cell_type": "code",
   "execution_count": 3,
   "id": "d091f1e9",
   "metadata": {},
   "outputs": [
    {
     "name": "stdout",
     "output_type": "stream",
     "text": [
      "The length of list is:  3\n"
     ]
    }
   ],
   "source": [
    "#19.length of a list in python\n",
    "li = [10, 20, 30]\n",
    "n = len(li)\n",
    "print(\"The length of list is: \", n)"
   ]
  },
  {
   "cell_type": "code",
   "execution_count": 4,
   "id": "2b546725",
   "metadata": {},
   "outputs": [
    {
     "name": "stdout",
     "output_type": "stream",
     "text": [
      "B is greater\n"
     ]
    }
   ],
   "source": [
    "#20.Maximum of two numbers\n",
    "a = 2\n",
    "b = 4\n",
    "if(a>b):\n",
    "    print(\"A is greater\")\n",
    "else:\n",
    "    print(\"B is greater\")"
   ]
  },
  {
   "cell_type": "code",
   "execution_count": 25,
   "id": "091970d1",
   "metadata": {},
   "outputs": [
    {
     "name": "stdout",
     "output_type": "stream",
     "text": [
      "B is smaller\n"
     ]
    }
   ],
   "source": [
    "#21.Minimum of two numbers in python\n",
    "a=4\n",
    "b=2\n",
    "if(a<b):\n",
    "    print(\"A is smaller\")\n",
    "else:\n",
    "    print(\"B is smaller\")"
   ]
  },
  {
   "cell_type": "code",
   "execution_count": 30,
   "id": "0ef9f2b8",
   "metadata": {},
   "outputs": [
    {
     "name": "stdout",
     "output_type": "stream",
     "text": [
      "Symmetrical\n",
      "Palindrome\n"
     ]
    }
   ],
   "source": [
    "#22.program to check whether the string is symmetrical or palindrome\n",
    "string='amaama'\n",
    "half=int(len(string)/2)\n",
    "fs=string[:half]\n",
    "ss=string[half:]\n",
    "if(fs==ss):\n",
    "    print(\"Symmetrical\")\n",
    "else:\n",
    "    print(\"Non-Symmetrical\")\n",
    "if string==string[::-1]:\n",
    "    print(\"Palindrome\")\n",
    "else:\n",
    "    print(\"Not a palindrome\")"
   ]
  },
  {
   "cell_type": "code",
   "execution_count": 34,
   "id": "348ea01e",
   "metadata": {},
   "outputs": [
    {
     "name": "stdout",
     "output_type": "stream",
     "text": [
      "['class', 'in', 'python', 'programming']\n",
      "['programming', 'python', 'in', 'class']\n",
      "programming python in class\n"
     ]
    }
   ],
   "source": [
    "#23.# reverse a word in string\n",
    "string = \"class in python programming\"\n",
    "words = string.split()\n",
    "print(words)\n",
    "words = list(reversed(words))\n",
    "print(words)\n",
    "print(\" \".join(words))"
   ]
  },
  {
   "cell_type": "code",
   "execution_count": 36,
   "id": "344f5179",
   "metadata": {},
   "outputs": [
    {
     "name": "stdout",
     "output_type": "stream",
     "text": [
      "GeksforGeeks\n"
     ]
    }
   ],
   "source": [
    "#24.Ways to remove i'th character from string in python\n",
    "string=\"GeeksforGeeks\"\n",
    "new=string.replace('e','',1)\n",
    "print(new)"
   ]
  },
  {
   "cell_type": "code",
   "execution_count": 38,
   "id": "083b6839",
   "metadata": {},
   "outputs": [
    {
     "name": "stdout",
     "output_type": "stream",
     "text": [
      "11\n"
     ]
    }
   ],
   "source": [
    "#25.Find length of a string in python\n",
    "string=\"Programming\"\n",
    "print(len(string))"
   ]
  },
  {
   "cell_type": "code",
   "execution_count": 42,
   "id": "8be0e417",
   "metadata": {},
   "outputs": [
    {
     "name": "stdout",
     "output_type": "stream",
     "text": [
      "love\n",
      "to\n",
      "do\n",
      "painting\n"
     ]
    }
   ],
   "source": [
    "#26.Python program to print even length words in a string\n",
    "string=\"I love to do painting\"\n",
    "new=string.split()\n",
    "for i in new:\n",
    "    if len(i)%2==0:\n",
    "        print(i)"
   ]
  },
  {
   "cell_type": "code",
   "execution_count": 44,
   "id": "501212af",
   "metadata": {},
   "outputs": [
    {
     "name": "stdout",
     "output_type": "stream",
     "text": [
      "4\n"
     ]
    }
   ],
   "source": [
    "#27.Find the length of a tuple\n",
    "tup=(1,2,3,4)\n",
    "print(len(tup))"
   ]
  },
  {
   "cell_type": "code",
   "execution_count": 52,
   "id": "cd30774f",
   "metadata": {},
   "outputs": [
    {
     "name": "stdout",
     "output_type": "stream",
     "text": [
      "(1, 2, 8, 9)\n"
     ]
    }
   ],
   "source": [
    "#28.Python – Maximum and Minimum K elements in Tuple\n",
    "tup=(1,5,2,8,4,9)\n",
    "k=2\n",
    "tup=list(tup)\n",
    "t=sorted(tup)\n",
    "res=tuple(t[:k]+t[-k:])\n",
    "print(res)"
   ]
  },
  {
   "cell_type": "code",
   "execution_count": 58,
   "id": "c1d01001",
   "metadata": {},
   "outputs": [
    {
     "name": "stdout",
     "output_type": "stream",
     "text": [
      "(7, 8, 9, 1, 10, 7)\n",
      "42\n"
     ]
    }
   ],
   "source": [
    "#29.Python – Sum of tuple elements\n",
    "test_tup = (7,8,9,1,10,7) \n",
    "print(test_tup)\n",
    "r=0\n",
    "for i in test_tup:\n",
    "    r=r+i\n",
    "print(r)"
   ]
  },
  {
   "cell_type": "code",
   "execution_count": 1,
   "id": "57828d12",
   "metadata": {},
   "outputs": [
    {
     "name": "stdout",
     "output_type": "stream",
     "text": [
      "The original list is : [[('Gfg', 3), ('is', 3)], [('best', 1)], [('for', 5), ('geeks', 1)]]\n",
      "The matrix after row elements addition : [[('Gfg', 3, 6), ('is', 3, 6)], [('best', 1, 7)], [('for', 5, 8), ('geeks', 1, 8)]]\n"
     ]
    }
   ],
   "source": [
    "#30.Python – Row-wise element Addition in Tuple Matrix\n",
    "test_list = [[('Gfg', 3), ('is', 3)], [('best', 1)], [('for', 5), ('geeks', 1)]]\n",
    "print(\"The original list is : \" + str(test_list))\n",
    "cus_eles = [6, 7, 8]\n",
    "res = [[sub + (cus_eles[idx], ) for sub in val] for idx, val in enumerate(test_list)]\n",
    "print(\"The matrix after row elements addition : \" + str(res))\n"
   ]
  }
 ],
 "metadata": {
  "kernelspec": {
   "display_name": "Python 3 (ipykernel)",
   "language": "python",
   "name": "python3"
  },
  "language_info": {
   "codemirror_mode": {
    "name": "ipython",
    "version": 3
   },
   "file_extension": ".py",
   "mimetype": "text/x-python",
   "name": "python",
   "nbconvert_exporter": "python",
   "pygments_lexer": "ipython3",
   "version": "3.10.9"
  }
 },
 "nbformat": 4,
 "nbformat_minor": 5
}
